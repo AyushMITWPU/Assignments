{
 "cells": [
  {
   "cell_type": "markdown",
   "id": "48b6fde1",
   "metadata": {},
   "source": [
    "# Data Science Tools and Ecosystem"
   ]
  },
  {
   "cell_type": "markdown",
   "id": "64b6fd25",
   "metadata": {},
   "source": [
    "In this notebook, Data Science Tools and Ecosystem are summarized.\n"
   ]
  },
  {
   "cell_type": "markdown",
   "id": "86d335c4",
   "metadata": {},
   "source": [
    "__Objectives:__\n",
    "- list popular data science languages\n",
    "- list popular data science libraries\n",
    "- Create a markdown cell with a table of Data Science tools\n",
    "- Create a code cell to multiply and add numbers\n",
    "- Create a code cell to convert minutes to hours"
   ]
  },
  {
   "cell_type": "markdown",
   "id": "483416b6",
   "metadata": {},
   "source": [
    "Some of the popular languages that Data Scientists use are:\n",
    "1. Python\n",
    "2. R\n",
    "3. Julia\n",
    "4. SQL\n",
    "5. Java"
   ]
  },
  {
   "cell_type": "markdown",
   "id": "4796d0bf",
   "metadata": {},
   "source": [
    "Some of the commonly used libraries used by Data Scientists include:\n",
    "\n",
    "1. Numpy\n",
    "2. pandas\n",
    "3. matplotlib\n",
    "4. Scikit-learn\n",
    "5. Tenserflow"
   ]
  },
  {
   "cell_type": "markdown",
   "id": "5d50ca47",
   "metadata": {},
   "source": [
    "| Data Science Tools | \n",
    "|--------------------|\n",
    "|RStudio|\n",
    "|VScode| \n",
    "|Juypter Notebook|"
   ]
  },
  {
   "cell_type": "markdown",
   "id": "1c0d38b8",
   "metadata": {},
   "source": [
    "### Below are a few examples of evaluating arithmetic expressions in Python\n",
    "1. 2+3\n",
    "2. 2 * 8 * 9\n",
    "3. 3 / 8 * 9"
   ]
  },
  {
   "cell_type": "markdown",
   "id": "a78d6325",
   "metadata": {},
   "source": [
    "This a simple arithmetic expression to mutiply 3 and 4 then add 5 to it"
   ]
  },
  {
   "cell_type": "code",
   "execution_count": 6,
   "id": "a9261934",
   "metadata": {},
   "outputs": [
    {
     "data": {
      "text/plain": [
       "17"
      ]
     },
     "execution_count": 6,
     "metadata": {},
     "output_type": "execute_result"
    }
   ],
   "source": [
    "(3*4)+5"
   ]
  },
  {
   "cell_type": "markdown",
   "id": "9a9fcec3",
   "metadata": {},
   "source": [
    "This will convert 200 minutes to hours by diving by 60"
   ]
  },
  {
   "cell_type": "code",
   "execution_count": 13,
   "id": "6ef1ce4a",
   "metadata": {},
   "outputs": [
    {
     "name": "stdout",
     "output_type": "stream",
     "text": [
      "3.3333333333333335 hrs\n"
     ]
    }
   ],
   "source": [
    "x=200/60\n",
    "print(x,\"hrs\")"
   ]
  },
  {
   "cell_type": "markdown",
   "id": "724f416c",
   "metadata": {},
   "source": [
    "## Author\n",
    "Ayush Surve"
   ]
  },
  {
   "cell_type": "code",
   "execution_count": null,
   "id": "5cc09183",
   "metadata": {},
   "outputs": [],
   "source": []
  }
 ],
 "metadata": {
  "kernelspec": {
   "display_name": "Python 3 (ipykernel)",
   "language": "python",
   "name": "python3"
  },
  "language_info": {
   "codemirror_mode": {
    "name": "ipython",
    "version": 3
   },
   "file_extension": ".py",
   "mimetype": "text/x-python",
   "name": "python",
   "nbconvert_exporter": "python",
   "pygments_lexer": "ipython3",
   "version": "3.9.13"
  }
 },
 "nbformat": 4,
 "nbformat_minor": 5
}
